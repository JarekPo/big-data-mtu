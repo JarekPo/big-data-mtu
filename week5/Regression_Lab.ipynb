{
 "cells": [
  {
   "cell_type": "markdown",
   "id": "ea43a575",
   "metadata": {},
   "source": [
    "<h1> Linear regression"
   ]
  },
  {
   "cell_type": "markdown",
   "id": "1c499055",
   "metadata": {},
   "source": [
    "<H2> Question 1"
   ]
  },
  {
   "cell_type": "markdown",
   "id": "18350d85",
   "metadata": {},
   "source": [
    "A popular restaurant review website has released the dataset you can download from Canvas. \n",
    "\n",
    "Here each row represents an average rating of a restaurant’s different aspects as provided by previous customers. The dataset contains records for the restaurants using the following attributes:\n",
    "\n",
    "ambience, food, service, and overall rating. \n",
    "\n",
    "The first three attributes\n",
    "are predictor variables and the remaining one is the outcome. \n",
    "\n",
    "Use a linear regression model to predict how the predictor attributes impact the overall rating of the restaurant.\n"
   ]
  },
  {
   "cell_type": "markdown",
   "id": "d8985b5f",
   "metadata": {},
   "source": [
    "First, express the linear regression in mathematical form. Then, try solving it by hand as we did in class. Here, you will have four parameters (the constant, and the three attributes), with one predictor.\n",
    "\n",
    "You do not have to actually solve this with all possible values for these\n",
    "parameters. Rather, show a couple of possible sets of values for the parameters with the predictor value calculated. "
   ]
  },
  {
   "cell_type": "markdown",
   "id": "68e1c73e",
   "metadata": {},
   "source": [
    "### Part a\n",
    "Simple Linear Regression Math by Hand\n",
    "\n",
    "There are just a handful of steps in linear regression.\n",
    "<ul>\n",
    "    <li>Step 1: Calculate X*Y, X<sup>2</sup>, and Y<sup>2</sup></li>\n",
    "    <li>Step 2: Calculate ΣX, ΣY, ΣX*Y, ΣX<sup>2</sup>, and ΣY<sup>2</sup></li>\n",
    "    <li>Step 3: Calculate b<sub>0</sub></li>\n",
    "    <li>Step 4: Calculate b<sub>1</sub></li>\n",
    "    <li>Step 5: Place b<sub>0</sub> and b<sub>1</sub> in the estimated linear regression equation.</li>\n",
    "</ul>\n",
    "\n",
    "The estimated linear regression equation is: ŷ = b<sub>0</sub> + b<sub>1</sub>*x\n",
    "\n",
    "The formula to calculate b<sub>0</sub> is: [(ΣY)(ΣX<sup>2</sup>) – (ΣX)(ΣX*Y)]  /  [n(ΣX<sup>2</sup>) – (ΣX)<sup>2</sup>]\n",
    "\n",
    "The formula to calculate b<sub>1</sub> is: [n(ΣXY) – (ΣX)(ΣY)]  /  [n(ΣX<sup>2</sup>) – (ΣX)<sup>2</sup>]\n",
    "\n"
   ]
  },
  {
   "cell_type": "code",
   "execution_count": 109,
   "id": "d88b8a11",
   "metadata": {},
   "outputs": [
    {
     "data": {
      "text/html": [
       "<div>\n",
       "<style scoped>\n",
       "    .dataframe tbody tr th:only-of-type {\n",
       "        vertical-align: middle;\n",
       "    }\n",
       "\n",
       "    .dataframe tbody tr th {\n",
       "        vertical-align: top;\n",
       "    }\n",
       "\n",
       "    .dataframe thead th {\n",
       "        text-align: right;\n",
       "    }\n",
       "</style>\n",
       "<table border=\"1\" class=\"dataframe\">\n",
       "  <thead>\n",
       "    <tr style=\"text-align: right;\">\n",
       "      <th></th>\n",
       "      <th>restaurant</th>\n",
       "      <th>food</th>\n",
       "      <th>ambience</th>\n",
       "      <th>service</th>\n",
       "      <th>rating</th>\n",
       "    </tr>\n",
       "  </thead>\n",
       "  <tbody>\n",
       "    <tr>\n",
       "      <th>restaurant</th>\n",
       "      <td>1.000000</td>\n",
       "      <td>-0.331328</td>\n",
       "      <td>-0.110975</td>\n",
       "      <td>-0.193960</td>\n",
       "      <td>-0.268783</td>\n",
       "    </tr>\n",
       "    <tr>\n",
       "      <th>food</th>\n",
       "      <td>-0.331328</td>\n",
       "      <td>1.000000</td>\n",
       "      <td>0.182054</td>\n",
       "      <td>0.739492</td>\n",
       "      <td>0.839303</td>\n",
       "    </tr>\n",
       "    <tr>\n",
       "      <th>ambience</th>\n",
       "      <td>-0.110975</td>\n",
       "      <td>0.182054</td>\n",
       "      <td>1.000000</td>\n",
       "      <td>0.348678</td>\n",
       "      <td>0.372210</td>\n",
       "    </tr>\n",
       "    <tr>\n",
       "      <th>service</th>\n",
       "      <td>-0.193960</td>\n",
       "      <td>0.739492</td>\n",
       "      <td>0.348678</td>\n",
       "      <td>1.000000</td>\n",
       "      <td>0.796753</td>\n",
       "    </tr>\n",
       "    <tr>\n",
       "      <th>rating</th>\n",
       "      <td>-0.268783</td>\n",
       "      <td>0.839303</td>\n",
       "      <td>0.372210</td>\n",
       "      <td>0.796753</td>\n",
       "      <td>1.000000</td>\n",
       "    </tr>\n",
       "  </tbody>\n",
       "</table>\n",
       "</div>"
      ],
      "text/plain": [
       "            restaurant      food  ambience   service    rating\n",
       "restaurant    1.000000 -0.331328 -0.110975 -0.193960 -0.268783\n",
       "food         -0.331328  1.000000  0.182054  0.739492  0.839303\n",
       "ambience     -0.110975  0.182054  1.000000  0.348678  0.372210\n",
       "service      -0.193960  0.739492  0.348678  1.000000  0.796753\n",
       "rating       -0.268783  0.839303  0.372210  0.796753  1.000000"
      ]
     },
     "execution_count": 109,
     "metadata": {},
     "output_type": "execute_result"
    }
   ],
   "source": [
    "#Type the answers from your manual calculations here.\n",
    "import pandas as pd\n",
    "\n",
    "# step 1\n",
    "df = pd.read_csv('ratings.tsv', sep='\\t')\n",
    "df\n",
    "X = df['food']\n",
    "Y = df.rating\n",
    "XY = X * Y\n",
    "xSqr = X**2\n",
    "ySqr = Y**2\n",
    "ySqr\n",
    "df.corr()"
   ]
  },
  {
   "cell_type": "code",
   "execution_count": 91,
   "id": "aa128a61",
   "metadata": {},
   "outputs": [],
   "source": [
    "# step 2\n",
    "sumOfXs = X.sum()\n",
    "sumOfYs = Y.sum()\n",
    "sumXsByYs = XY.sum()\n",
    "sumOfSqrXs = (X**2).sum()\n",
    "sumOfSqrYs = (Y**2).sum()\n",
    "n = len(df)"
   ]
  },
  {
   "cell_type": "code",
   "execution_count": 92,
   "id": "dd91231e",
   "metadata": {},
   "outputs": [
    {
     "data": {
      "text/plain": [
       "-4.82284511411478"
      ]
     },
     "execution_count": 92,
     "metadata": {},
     "output_type": "execute_result"
    }
   ],
   "source": [
    "# step 3 & 4\n",
    "b0 = ((sumOfYs * sumOfSqrXs) - (sumOfXs * sumXsByYs)) / ((n * sumOfSqrXs) - ((sumOfXs)**2))\n",
    "b1 = ((n * sumXsByYs) - (sumOfXs * sumOfYs)) / ((n * sumOfSqrXs) - ((sumOfXs)**2))\n",
    "b0"
   ]
  },
  {
   "cell_type": "code",
   "execution_count": 104,
   "id": "b7c23e9e",
   "metadata": {},
   "outputs": [
    {
     "data": {
      "text/html": [
       "<div>\n",
       "<style scoped>\n",
       "    .dataframe tbody tr th:only-of-type {\n",
       "        vertical-align: middle;\n",
       "    }\n",
       "\n",
       "    .dataframe tbody tr th {\n",
       "        vertical-align: top;\n",
       "    }\n",
       "\n",
       "    .dataframe thead th {\n",
       "        text-align: right;\n",
       "    }\n",
       "</style>\n",
       "<table border=\"1\" class=\"dataframe\">\n",
       "  <thead>\n",
       "    <tr style=\"text-align: right;\">\n",
       "      <th></th>\n",
       "      <th>const</th>\n",
       "      <th>restaurant</th>\n",
       "      <th>food</th>\n",
       "      <th>ambience</th>\n",
       "      <th>service</th>\n",
       "    </tr>\n",
       "  </thead>\n",
       "  <tbody>\n",
       "    <tr>\n",
       "      <th>0</th>\n",
       "      <td>-3.757811</td>\n",
       "      <td>-3.757811</td>\n",
       "      <td>85.705074</td>\n",
       "      <td>82.509971</td>\n",
       "      <td>89.965212</td>\n",
       "    </tr>\n",
       "    <tr>\n",
       "      <th>1</th>\n",
       "      <td>-3.757811</td>\n",
       "      <td>-2.692776</td>\n",
       "      <td>80.379903</td>\n",
       "      <td>91.030246</td>\n",
       "      <td>80.379903</td>\n",
       "    </tr>\n",
       "    <tr>\n",
       "      <th>2</th>\n",
       "      <td>-3.757811</td>\n",
       "      <td>-1.627742</td>\n",
       "      <td>83.575006</td>\n",
       "      <td>86.770109</td>\n",
       "      <td>83.575006</td>\n",
       "    </tr>\n",
       "    <tr>\n",
       "      <th>3</th>\n",
       "      <td>-3.757811</td>\n",
       "      <td>-0.562708</td>\n",
       "      <td>69.729559</td>\n",
       "      <td>97.420452</td>\n",
       "      <td>75.054731</td>\n",
       "    </tr>\n",
       "    <tr>\n",
       "      <th>4</th>\n",
       "      <td>-3.757811</td>\n",
       "      <td>0.502327</td>\n",
       "      <td>67.599490</td>\n",
       "      <td>80.379903</td>\n",
       "      <td>78.249834</td>\n",
       "    </tr>\n",
       "    <tr>\n",
       "      <th>5</th>\n",
       "      <td>-3.757811</td>\n",
       "      <td>1.567361</td>\n",
       "      <td>64.404387</td>\n",
       "      <td>69.729559</td>\n",
       "      <td>54.819078</td>\n",
       "    </tr>\n",
       "    <tr>\n",
       "      <th>6</th>\n",
       "      <td>-3.757811</td>\n",
       "      <td>2.632395</td>\n",
       "      <td>63.339353</td>\n",
       "      <td>67.599490</td>\n",
       "      <td>60.144250</td>\n",
       "    </tr>\n",
       "    <tr>\n",
       "      <th>7</th>\n",
       "      <td>-3.757811</td>\n",
       "      <td>3.697430</td>\n",
       "      <td>71.859628</td>\n",
       "      <td>96.355418</td>\n",
       "      <td>71.859628</td>\n",
       "    </tr>\n",
       "    <tr>\n",
       "      <th>8</th>\n",
       "      <td>-3.757811</td>\n",
       "      <td>4.762464</td>\n",
       "      <td>68.664525</td>\n",
       "      <td>69.729559</td>\n",
       "      <td>78.249834</td>\n",
       "    </tr>\n",
       "    <tr>\n",
       "      <th>9</th>\n",
       "      <td>-3.757811</td>\n",
       "      <td>5.827498</td>\n",
       "      <td>75.054731</td>\n",
       "      <td>80.379903</td>\n",
       "      <td>75.054731</td>\n",
       "    </tr>\n",
       "    <tr>\n",
       "      <th>10</th>\n",
       "      <td>-3.757811</td>\n",
       "      <td>6.892533</td>\n",
       "      <td>75.054731</td>\n",
       "      <td>69.729559</td>\n",
       "      <td>75.054731</td>\n",
       "    </tr>\n",
       "    <tr>\n",
       "      <th>11</th>\n",
       "      <td>-3.757811</td>\n",
       "      <td>7.957567</td>\n",
       "      <td>71.859628</td>\n",
       "      <td>91.030246</td>\n",
       "      <td>78.249834</td>\n",
       "    </tr>\n",
       "    <tr>\n",
       "      <th>12</th>\n",
       "      <td>-3.757811</td>\n",
       "      <td>9.022601</td>\n",
       "      <td>81.444937</td>\n",
       "      <td>71.859628</td>\n",
       "      <td>78.249834</td>\n",
       "    </tr>\n",
       "    <tr>\n",
       "      <th>13</th>\n",
       "      <td>-3.757811</td>\n",
       "      <td>10.087636</td>\n",
       "      <td>70.794593</td>\n",
       "      <td>92.095280</td>\n",
       "      <td>70.794593</td>\n",
       "    </tr>\n",
       "    <tr>\n",
       "      <th>14</th>\n",
       "      <td>-3.757811</td>\n",
       "      <td>11.152670</td>\n",
       "      <td>66.534456</td>\n",
       "      <td>86.770109</td>\n",
       "      <td>78.249834</td>\n",
       "    </tr>\n",
       "  </tbody>\n",
       "</table>\n",
       "</div>"
      ],
      "text/plain": [
       "       const  restaurant       food   ambience    service\n",
       "0  -3.757811   -3.757811  85.705074  82.509971  89.965212\n",
       "1  -3.757811   -2.692776  80.379903  91.030246  80.379903\n",
       "2  -3.757811   -1.627742  83.575006  86.770109  83.575006\n",
       "3  -3.757811   -0.562708  69.729559  97.420452  75.054731\n",
       "4  -3.757811    0.502327  67.599490  80.379903  78.249834\n",
       "5  -3.757811    1.567361  64.404387  69.729559  54.819078\n",
       "6  -3.757811    2.632395  63.339353  67.599490  60.144250\n",
       "7  -3.757811    3.697430  71.859628  96.355418  71.859628\n",
       "8  -3.757811    4.762464  68.664525  69.729559  78.249834\n",
       "9  -3.757811    5.827498  75.054731  80.379903  75.054731\n",
       "10 -3.757811    6.892533  75.054731  69.729559  75.054731\n",
       "11 -3.757811    7.957567  71.859628  91.030246  78.249834\n",
       "12 -3.757811    9.022601  81.444937  71.859628  78.249834\n",
       "13 -3.757811   10.087636  70.794593  92.095280  70.794593\n",
       "14 -3.757811   11.152670  66.534456  86.770109  78.249834"
      ]
     },
     "execution_count": 104,
     "metadata": {},
     "output_type": "execute_result"
    }
   ],
   "source": [
    " # step 5\n",
    "\n",
    "linearRegression = b0 + b1 * X\n",
    "linearRegression"
   ]
  },
  {
   "cell_type": "code",
   "execution_count": 94,
   "id": "ad54fff8",
   "metadata": {},
   "outputs": [
    {
     "data": {
      "text/html": [
       "<div>\n",
       "<style scoped>\n",
       "    .dataframe tbody tr th:only-of-type {\n",
       "        vertical-align: middle;\n",
       "    }\n",
       "\n",
       "    .dataframe tbody tr th {\n",
       "        vertical-align: top;\n",
       "    }\n",
       "\n",
       "    .dataframe thead th {\n",
       "        text-align: right;\n",
       "    }\n",
       "</style>\n",
       "<table border=\"1\" class=\"dataframe\">\n",
       "  <thead>\n",
       "    <tr style=\"text-align: right;\">\n",
       "      <th></th>\n",
       "      <th>restaurant</th>\n",
       "      <th>food</th>\n",
       "      <th>ambience</th>\n",
       "      <th>service</th>\n",
       "      <th>rating</th>\n",
       "      <th>Y</th>\n",
       "    </tr>\n",
       "  </thead>\n",
       "  <tbody>\n",
       "    <tr>\n",
       "      <th>0</th>\n",
       "      <td>1</td>\n",
       "      <td>85</td>\n",
       "      <td>82</td>\n",
       "      <td>89</td>\n",
       "      <td>78</td>\n",
       "      <td>85.705074</td>\n",
       "    </tr>\n",
       "    <tr>\n",
       "      <th>1</th>\n",
       "      <td>2</td>\n",
       "      <td>80</td>\n",
       "      <td>90</td>\n",
       "      <td>80</td>\n",
       "      <td>85</td>\n",
       "      <td>80.379903</td>\n",
       "    </tr>\n",
       "    <tr>\n",
       "      <th>2</th>\n",
       "      <td>3</td>\n",
       "      <td>83</td>\n",
       "      <td>86</td>\n",
       "      <td>83</td>\n",
       "      <td>85</td>\n",
       "      <td>83.575006</td>\n",
       "    </tr>\n",
       "    <tr>\n",
       "      <th>3</th>\n",
       "      <td>4</td>\n",
       "      <td>70</td>\n",
       "      <td>96</td>\n",
       "      <td>75</td>\n",
       "      <td>72</td>\n",
       "      <td>69.729559</td>\n",
       "    </tr>\n",
       "    <tr>\n",
       "      <th>4</th>\n",
       "      <td>5</td>\n",
       "      <td>68</td>\n",
       "      <td>80</td>\n",
       "      <td>78</td>\n",
       "      <td>75</td>\n",
       "      <td>67.599490</td>\n",
       "    </tr>\n",
       "    <tr>\n",
       "      <th>5</th>\n",
       "      <td>6</td>\n",
       "      <td>65</td>\n",
       "      <td>70</td>\n",
       "      <td>56</td>\n",
       "      <td>54</td>\n",
       "      <td>64.404387</td>\n",
       "    </tr>\n",
       "    <tr>\n",
       "      <th>6</th>\n",
       "      <td>7</td>\n",
       "      <td>64</td>\n",
       "      <td>68</td>\n",
       "      <td>61</td>\n",
       "      <td>62</td>\n",
       "      <td>63.339353</td>\n",
       "    </tr>\n",
       "    <tr>\n",
       "      <th>7</th>\n",
       "      <td>8</td>\n",
       "      <td>72</td>\n",
       "      <td>95</td>\n",
       "      <td>72</td>\n",
       "      <td>73</td>\n",
       "      <td>71.859628</td>\n",
       "    </tr>\n",
       "    <tr>\n",
       "      <th>8</th>\n",
       "      <td>9</td>\n",
       "      <td>69</td>\n",
       "      <td>70</td>\n",
       "      <td>78</td>\n",
       "      <td>70</td>\n",
       "      <td>68.664525</td>\n",
       "    </tr>\n",
       "    <tr>\n",
       "      <th>9</th>\n",
       "      <td>10</td>\n",
       "      <td>75</td>\n",
       "      <td>80</td>\n",
       "      <td>75</td>\n",
       "      <td>77</td>\n",
       "      <td>75.054731</td>\n",
       "    </tr>\n",
       "    <tr>\n",
       "      <th>10</th>\n",
       "      <td>11</td>\n",
       "      <td>75</td>\n",
       "      <td>70</td>\n",
       "      <td>75</td>\n",
       "      <td>74</td>\n",
       "      <td>75.054731</td>\n",
       "    </tr>\n",
       "    <tr>\n",
       "      <th>11</th>\n",
       "      <td>12</td>\n",
       "      <td>72</td>\n",
       "      <td>90</td>\n",
       "      <td>78</td>\n",
       "      <td>76</td>\n",
       "      <td>71.859628</td>\n",
       "    </tr>\n",
       "    <tr>\n",
       "      <th>12</th>\n",
       "      <td>13</td>\n",
       "      <td>81</td>\n",
       "      <td>72</td>\n",
       "      <td>78</td>\n",
       "      <td>80</td>\n",
       "      <td>81.444937</td>\n",
       "    </tr>\n",
       "    <tr>\n",
       "      <th>13</th>\n",
       "      <td>14</td>\n",
       "      <td>71</td>\n",
       "      <td>91</td>\n",
       "      <td>71</td>\n",
       "      <td>71</td>\n",
       "      <td>70.794593</td>\n",
       "    </tr>\n",
       "    <tr>\n",
       "      <th>14</th>\n",
       "      <td>15</td>\n",
       "      <td>67</td>\n",
       "      <td>86</td>\n",
       "      <td>78</td>\n",
       "      <td>64</td>\n",
       "      <td>66.534456</td>\n",
       "    </tr>\n",
       "  </tbody>\n",
       "</table>\n",
       "</div>"
      ],
      "text/plain": [
       "    restaurant  food  ambience  service  rating          Y\n",
       "0            1    85        82       89      78  85.705074\n",
       "1            2    80        90       80      85  80.379903\n",
       "2            3    83        86       83      85  83.575006\n",
       "3            4    70        96       75      72  69.729559\n",
       "4            5    68        80       78      75  67.599490\n",
       "5            6    65        70       56      54  64.404387\n",
       "6            7    64        68       61      62  63.339353\n",
       "7            8    72        95       72      73  71.859628\n",
       "8            9    69        70       78      70  68.664525\n",
       "9           10    75        80       75      77  75.054731\n",
       "10          11    75        70       75      74  75.054731\n",
       "11          12    72        90       78      76  71.859628\n",
       "12          13    81        72       78      80  81.444937\n",
       "13          14    71        91       71      71  70.794593\n",
       "14          15    67        86       78      64  66.534456"
      ]
     },
     "execution_count": 94,
     "metadata": {},
     "output_type": "execute_result"
    }
   ],
   "source": [
    "df['Y'] = linearRegression\n",
    "df"
   ]
  },
  {
   "cell_type": "code",
   "execution_count": 95,
   "id": "86bb6fd4",
   "metadata": {},
   "outputs": [
    {
     "data": {
      "text/plain": [
       "<AxesSubplot: xlabel='food', ylabel='rating'>"
      ]
     },
     "execution_count": 95,
     "metadata": {},
     "output_type": "execute_result"
    },
    {
     "data": {
      "image/png": "[encoded data removed]",
      "text/plain": [
       "<Figure size 640x480 with 1 Axes>"
      ]
     },
     "metadata": {},
     "output_type": "display_data"
    }
   ],
   "source": [
    "\n",
    "regrFood = df.plot.scatter(x = 'food', y = 'rating')\n",
    "df.plot(x = 'food', y = 'Y', color = 'red', ax=regrFood)\n",
    "# regrAmbience = df.plot.scatter(x = 'ambience', y = 'rating')\n",
    "# df.plot(x = 'ambience', y = 'Y', color = 'red', ax=regrAmbience)\n",
    "# regrService = df.plot.scatter(x = 'service', y = 'rating')\n",
    "# df.plot(x = 'service', y = 'Y', color = 'red', ax=regrService)\n",
    "\n"
   ]
  },
  {
   "cell_type": "markdown",
   "id": "014fb1d8",
   "metadata": {},
   "source": [
    "### Part b\n",
    "\n",
    "Finally, use python to find the linear regression model and report it in\n",
    "appropriate terms (do not just dump the output from python)\n",
    "\n",
    "I have included the solution below please read through the code."
   ]
  },
  {
   "cell_type": "code",
   "execution_count": 96,
   "id": "1df5efa0",
   "metadata": {},
   "outputs": [],
   "source": [
    "from sysconfig import get_python_version\n",
    "import numpy as np\n",
    "import pandas as pd\n",
    "import matplotlib.pyplot as plt\n",
    "import statsmodels.formula.api as smf\n",
    "import seaborn as sns\n",
    "# get_python_version().run_line_magic('matplotlib', 'inline')\n",
    "from sklearn.linear_model import LinearRegression\n",
    "import statsmodels.api as sm\n",
    "from IPython import get_ipython\n",
    "\n",
    "get_ipython().run_line_magic('matplotlib', 'inline')"
   ]
  },
  {
   "cell_type": "code",
   "execution_count": 97,
   "id": "b4d5f9b7",
   "metadata": {},
   "outputs": [],
   "source": [
    "#Reading the data (note this is a tab seperated file)\n",
    "ratingData = pd.read_csv('ratings.tsv', sep='\\t')\n"
   ]
  },
  {
   "cell_type": "code",
   "execution_count": 98,
   "id": "f8e58bdf",
   "metadata": {},
   "outputs": [],
   "source": [
    "#Dropping null values\n",
    "ratingData = ratingData.dropna()"
   ]
  },
  {
   "cell_type": "code",
   "execution_count": 99,
   "id": "593f3949",
   "metadata": {},
   "outputs": [
    {
     "data": {
      "text/plain": [
       "<matplotlib.collections.PathCollection at 0x1fc3ec08d60>"
      ]
     },
     "execution_count": 99,
     "metadata": {},
     "output_type": "execute_result"
    },
    {
     "data": {
      "image/png": "[encoded data removed]",
      "text/plain": [
       "<Figure size 640x480 with 1 Axes>"
      ]
     },
     "metadata": {},
     "output_type": "display_data"
    }
   ],
   "source": [
    "#Scatter plot of food and rating\n",
    "plt.scatter(ratingData.food, ratingData.rating)"
   ]
  },
  {
   "cell_type": "code",
   "execution_count": 100,
   "id": "8b50a9eb",
   "metadata": {},
   "outputs": [
    {
     "data": {
      "text/plain": [
       "<matplotlib.collections.PathCollection at 0x1fc3ec81d80>"
      ]
     },
     "execution_count": 100,
     "metadata": {},
     "output_type": "execute_result"
    },
    {
     "data": {
      "image/png": "[encoded data removed]",
      "text/plain": [
       "<Figure size 640x480 with 1 Axes>"
      ]
     },
     "metadata": {},
     "output_type": "display_data"
    }
   ],
   "source": [
    "#Scatter plot of ambience and rating\n",
    "plt.scatter(ratingData.ambience, ratingData.rating)"
   ]
  },
  {
   "cell_type": "code",
   "execution_count": 101,
   "id": "c049a4cc",
   "metadata": {},
   "outputs": [
    {
     "data": {
      "text/plain": [
       "<matplotlib.collections.PathCollection at 0x1fc3ece77f0>"
      ]
     },
     "execution_count": 101,
     "metadata": {},
     "output_type": "execute_result"
    },
    {
     "data": {
      "image/png": "[encoded data removed]",
      "text/plain": [
       "<Figure size 640x480 with 1 Axes>"
      ]
     },
     "metadata": {},
     "output_type": "display_data"
    }
   ],
   "source": [
    "#Scatter plot of service and rating\n",
    "plt.scatter(ratingData.service, ratingData.rating)"
   ]
  },
  {
   "cell_type": "code",
   "execution_count": 102,
   "id": "235abb11",
   "metadata": {},
   "outputs": [
    {
     "name": "stderr",
     "output_type": "stream",
     "text": [
      "c:\\MTU Kerry\\Big Data\\github\\.venv\\lib\\site-packages\\scipy\\stats\\_stats_py.py:1736: UserWarning: kurtosistest only valid for n>=20 ... continuing anyway, n=15\n",
      "  warnings.warn(\"kurtosistest only valid for n>=20 ... continuing \"\n"
     ]
    },
    {
     "data": {
      "text/html": [
       "<table class=\"simpletable\">\n",
       "<caption>OLS Regression Results</caption>\n",
       "<tr>\n",
       "  <th>Dep. Variable:</th>         <td>rating</td>      <th>  R-squared:         </th> <td>   0.794</td>\n",
       "</tr>\n",
       "<tr>\n",
       "  <th>Model:</th>                   <td>OLS</td>       <th>  Adj. R-squared:    </th> <td>   0.712</td>\n",
       "</tr>\n",
       "<tr>\n",
       "  <th>Method:</th>             <td>Least Squares</td>  <th>  F-statistic:       </th> <td>   9.654</td>\n",
       "</tr>\n",
       "<tr>\n",
       "  <th>Date:</th>             <td>Sun, 19 Feb 2023</td> <th>  Prob (F-statistic):</th>  <td>0.00183</td>\n",
       "</tr>\n",
       "<tr>\n",
       "  <th>Time:</th>                 <td>08:33:07</td>     <th>  Log-Likelihood:    </th> <td> -40.685</td>\n",
       "</tr>\n",
       "<tr>\n",
       "  <th>No. Observations:</th>      <td>    15</td>      <th>  AIC:               </th> <td>   91.37</td>\n",
       "</tr>\n",
       "<tr>\n",
       "  <th>Df Residuals:</th>          <td>    10</td>      <th>  BIC:               </th> <td>   94.91</td>\n",
       "</tr>\n",
       "<tr>\n",
       "  <th>Df Model:</th>              <td>     4</td>      <th>                     </th>     <td> </td>   \n",
       "</tr>\n",
       "<tr>\n",
       "  <th>Covariance Type:</th>      <td>nonrobust</td>    <th>                     </th>     <td> </td>   \n",
       "</tr>\n",
       "</table>\n",
       "<table class=\"simpletable\">\n",
       "<tr>\n",
       "       <td></td>         <th>coef</th>     <th>std err</th>      <th>t</th>      <th>P>|t|</th>  <th>[0.025</th>    <th>0.975]</th>  \n",
       "</tr>\n",
       "<tr>\n",
       "  <th>const</th>      <td>  -15.9395</td> <td>   17.133</td> <td>   -0.930</td> <td> 0.374</td> <td>  -54.114</td> <td>   22.235</td>\n",
       "</tr>\n",
       "<tr>\n",
       "  <th>restaurant</th> <td>    0.0026</td> <td>    0.285</td> <td>    0.009</td> <td> 0.993</td> <td>   -0.632</td> <td>    0.637</td>\n",
       "</tr>\n",
       "<tr>\n",
       "  <th>food</th>       <td>    0.7345</td> <td>    0.285</td> <td>    2.579</td> <td> 0.027</td> <td>    0.100</td> <td>    1.369</td>\n",
       "</tr>\n",
       "<tr>\n",
       "  <th>ambience</th>   <td>    0.1339</td> <td>    0.132</td> <td>    1.018</td> <td> 0.333</td> <td>   -0.159</td> <td>    0.427</td>\n",
       "</tr>\n",
       "<tr>\n",
       "  <th>service</th>    <td>    0.3238</td> <td>    0.233</td> <td>    1.387</td> <td> 0.195</td> <td>   -0.196</td> <td>    0.844</td>\n",
       "</tr>\n",
       "</table>\n",
       "<table class=\"simpletable\">\n",
       "<tr>\n",
       "  <th>Omnibus:</th>       <td> 3.856</td> <th>  Durbin-Watson:     </th> <td>   2.057</td>\n",
       "</tr>\n",
       "<tr>\n",
       "  <th>Prob(Omnibus):</th> <td> 0.145</td> <th>  Jarque-Bera (JB):  </th> <td>   2.309</td>\n",
       "</tr>\n",
       "<tr>\n",
       "  <th>Skew:</th>          <td>-0.961</td> <th>  Prob(JB):          </th> <td>   0.315</td>\n",
       "</tr>\n",
       "<tr>\n",
       "  <th>Kurtosis:</th>      <td> 3.001</td> <th>  Cond. No.          </th> <td>1.99e+03</td>\n",
       "</tr>\n",
       "</table><br/><br/>Notes:<br/>[1] Standard Errors assume that the covariance matrix of the errors is correctly specified.<br/>[2] The condition number is large, 1.99e+03. This might indicate that there are<br/>strong multicollinearity or other numerical problems."
      ],
      "text/plain": [
       "<class 'statsmodels.iolib.summary.Summary'>\n",
       "\"\"\"\n",
       "                            OLS Regression Results                            \n",
       "==============================================================================\n",
       "Dep. Variable:                 rating   R-squared:                       0.794\n",
       "Model:                            OLS   Adj. R-squared:                  0.712\n",
       "Method:                 Least Squares   F-statistic:                     9.654\n",
       "Date:                Sun, 19 Feb 2023   Prob (F-statistic):            0.00183\n",
       "Time:                        08:33:07   Log-Likelihood:                -40.685\n",
       "No. Observations:                  15   AIC:                             91.37\n",
       "Df Residuals:                      10   BIC:                             94.91\n",
       "Df Model:                           4                                         \n",
       "Covariance Type:            nonrobust                                         \n",
       "==============================================================================\n",
       "                 coef    std err          t      P>|t|      [0.025      0.975]\n",
       "------------------------------------------------------------------------------\n",
       "const        -15.9395     17.133     -0.930      0.374     -54.114      22.235\n",
       "restaurant     0.0026      0.285      0.009      0.993      -0.632       0.637\n",
       "food           0.7345      0.285      2.579      0.027       0.100       1.369\n",
       "ambience       0.1339      0.132      1.018      0.333      -0.159       0.427\n",
       "service        0.3238      0.233      1.387      0.195      -0.196       0.844\n",
       "==============================================================================\n",
       "Omnibus:                        3.856   Durbin-Watson:                   2.057\n",
       "Prob(Omnibus):                  0.145   Jarque-Bera (JB):                2.309\n",
       "Skew:                          -0.961   Prob(JB):                        0.315\n",
       "Kurtosis:                       3.001   Cond. No.                     1.99e+03\n",
       "==============================================================================\n",
       "\n",
       "Notes:\n",
       "[1] Standard Errors assume that the covariance matrix of the errors is correctly specified.\n",
       "[2] The condition number is large, 1.99e+03. This might indicate that there are\n",
       "strong multicollinearity or other numerical problems.\n",
       "\"\"\""
      ]
     },
     "execution_count": 102,
     "metadata": {},
     "output_type": "execute_result"
    }
   ],
   "source": [
    "#Creating X and y and making a linear model\n",
    "X = ratingData.drop('rating', axis=1)\n",
    "X = sm.add_constant(X)\n",
    "lr_model = sm.OLS(ratingData.rating, X).fit()\n",
    "lr_model.summary()"
   ]
  },
  {
   "cell_type": "markdown",
   "id": "127d32ff",
   "metadata": {},
   "source": [
    "## Question 2\n",
    "For the next exercise, you are going to use the Airline Costs dataset available to download from airline_costs_new.csv The dataset has the following attributes, among others:\n",
    "<ol>\n",
    "<li>Airline name</li>\n",
    "<li>Length of flight in miles\n",
    "</li>\n",
    "<li>Speed of plane in miles per hour\n",
    "</li>\n",
    "<li>Daily flight time per plane in hours\n",
    "</li>\n",
    "<li>Customers served in 1000s\n",
    "</li>\n",
    "<li>Total operating cost in cents per revenue ton-mile\n",
    "</li>\n",
    "<li>Total assets in 100,000s </li>\n",
    "<li>Investments and special funds in 100,000s\n",
    "</li>\n",
    "</ol>\n",
    "\n",
    "\n",
    "Use a linear regression model to predict the number of customers each airline serves from its length of flight and daily flight time per plane. \n",
    "\n",
    "Next, build another regression model to predict the total assets of an airline from the customers served by the airline. \n",
    "\n",
    "Do you have any insight about the data from the last two regression models?"
   ]
  },
  {
   "cell_type": "code",
   "execution_count": null,
   "id": "8ed161bb",
   "metadata": {},
   "outputs": [],
   "source": []
  }
 ],
 "metadata": {
  "kernelspec": {
   "display_name": ".venv",
   "language": "python",
   "name": "python3"
  },
  "language_info": {
   "codemirror_mode": {
    "name": "ipython",
    "version": 3
   },
   "file_extension": ".py",
   "mimetype": "text/x-python",
   "name": "python",
   "nbconvert_exporter": "python",
   "pygments_lexer": "ipython3",
   "version": "3.10.5"
  },
  "vscode": {
   "interpreter": {
    "hash": "e15bcd260cdd8805381679f3d41bc4d0ba8d9e6e282b7cb8ab50e0bd5ac5b493"
   }
  }
 },
 "nbformat": 4,
 "nbformat_minor": 5
}
