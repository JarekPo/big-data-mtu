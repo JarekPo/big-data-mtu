{
  "cells": [
    {
      "cell_type": "code",
      "execution_count": null,
      "metadata": {
        "colab": {
          "base_uri": "https://localhost:8080/"
        },
        "id": "UqdXuD9WxT1M",
        "outputId": "527ccfcc-2ba0-42a0-83c7-d20485d8af86"
      },
      "outputs": [],
      "source": [
        "# Using script mode write a program that will output the text “Hello There” to screen\n",
        "\n",
        "print('Hello There')"
      ]
    },
    {
      "cell_type": "code",
      "execution_count": null,
      "metadata": {
        "colab": {
          "base_uri": "https://localhost:8080/"
        },
        "id": "h8TBfMD6xXh_",
        "outputId": "3bc7840e-d72d-4276-f887-610543db7634"
      },
      "outputs": [],
      "source": [
        "# Create a String variable to store your name and an int variable to store your age. Print this out to screen using the Script mode.\n",
        "\n",
        "name = 'Jaroslaw Polowy'\n",
        "age = 40\n",
        "print('Name:',name,' age:',age)"
      ]
    },
    {
      "cell_type": "code",
      "execution_count": null,
      "metadata": {
        "colab": {
          "base_uri": "https://localhost:8080/"
        },
        "id": "UHmqKKJO341x",
        "outputId": "ddc934ce-752f-4b67-be0b-ed96bfe1bf02"
      },
      "outputs": [],
      "source": [
        "# Write a program that will ask a student for their first name and then for their surname.\n",
        "# It should then ask the student to enter the int numerical grade they received in each of their three subjects.\n",
        "# The program should then print out the full name of the student along with their average numerical grade (Use only a single print statement)\n",
        "\n",
        "firstName = input('Enter your first name: ')\n",
        "surname = input('Enter your surname: ')\n",
        "numberOfSubjectsInputed = int(input('Number of subjects: '))\n",
        "\n",
        "def countGradesAverage(numberOfSubjects):\n",
        "  totalGrades = 0\n",
        "  for grade in range(numberOfSubjects):\n",
        "    singleGrade = float(input('Grade of the {} subject: '.format(grade+1)))\n",
        "    totalGrades += singleGrade\n",
        "\n",
        "  gradesAverage = totalGrades/numberOfSubjects\n",
        "  return gradesAverage\n",
        "\n",
        "print('Hi {} {},\\nYour average is'.format(firstName, surname), countGradesAverage(numberOfSubjectsInputed))"
      ]
    },
    {
      "cell_type": "code",
      "execution_count": null,
      "metadata": {
        "colab": {
          "base_uri": "https://localhost:8080/"
        },
        "id": "LUdvu03fDbxa",
        "outputId": "ed835997-ba3c-4733-cb28-2b2c095c30c2"
      },
      "outputs": [],
      "source": [
        "# Write a program that asks the user to enter a distance in kilometres and then converts that distance to miles (Miles = Kilometres * 0.6214).\n",
        "\n",
        "def convertToMiles(kilometers):\n",
        "  miles = kilometers * 0.6214\n",
        "  print(kilometers,'kilometers is',miles,'miles.')\n",
        "\n",
        "convertToMiles(float(input('Enter distance in kilometers: ')))"
      ]
    },
    {
      "cell_type": "code",
      "execution_count": null,
      "metadata": {
        "colab": {
          "base_uri": "https://localhost:8080/"
        },
        "id": "3rVZXTKGM8fp",
        "outputId": "73da5846-56aa-4d45-d803-6600661aa08d"
      },
      "outputs": [],
      "source": [
        "# Write a program to calculate and display a person’s body mass index (BMI).\n",
        "# A persons BMI is calculated with the following formula: BMI = (weight/height**2 ) * 703,\n",
        "# where weight in in pounds and height in in inches. Your program should ask the user for their weight (in pounds) and height (in inches).\n",
        "\n",
        "def calculateBMI(weight, height):\n",
        "  BMI = (weight/height**2)*703\n",
        "  print('Your BMI is', BMI)\n",
        "\n",
        "weightInput = float(input('Enter your weight: '))\n",
        "heightInput = float(input('Enter your height: '))\n",
        "calculateBMI(weightInput, heightInput)"
      ]
    },
    {
      "cell_type": "code",
      "execution_count": null,
      "metadata": {
        "colab": {
          "base_uri": "https://localhost:8080/"
        },
        "id": "9uDAKPtRYxLA",
        "outputId": "d8a28aaa-297a-4d0d-8bd1-11b19b0e4c18"
      },
      "outputs": [],
      "source": [
        "# There are three seating categories at a stadium.\n",
        "# For a football games, Class A seat’s cost €25, Class B seat’s cost €20 and Class C seat’s cost €30.\n",
        "# Write a program that asks how many tickets for each class of seats were sold, and then display the amount of income generated from ticket sales.\n",
        "\n",
        "aSeatCost = 25\n",
        "bSeatCost = 20\n",
        "cSeatCost = 30\n",
        "\n",
        "aTicketsNumber = int(input('Number of Class A tickets sold: '))\n",
        "bTicketsNumber = int(input('Number of Class B tickets sold: '))\n",
        "cTicketsNumber = int(input('Number of Class C tickets sold: '))\n",
        "\n",
        "totalIncome = float(aSeatCost * aTicketsNumber + bSeatCost * bTicketsNumber + cSeatCost * cTicketsNumber)\n",
        "print('Income generated: €{}'.format(totalIncome))"
      ]
    }
  ],
  "metadata": {
    "colab": {
      "provenance": []
    },
    "kernelspec": {
      "display_name": "Python 3.10.5 64-bit",
      "language": "python",
      "name": "python3"
    },
    "language_info": {
      "codemirror_mode": {
        "name": "ipython",
        "version": 3
      },
      "file_extension": ".py",
      "mimetype": "text/x-python",
      "name": "python",
      "nbconvert_exporter": "python",
      "pygments_lexer": "ipython3",
      "version": "3.10.5"
    },
    "vscode": {
      "interpreter": {
        "hash": "6bcb13f4c4cec4215f14ba0d43a568974c6f625f786bcbae0fb746bb47877d88"
      }
    }
  },
  "nbformat": 4,
  "nbformat_minor": 0
}
